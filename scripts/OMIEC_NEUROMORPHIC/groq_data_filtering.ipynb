{
 "cells": [
  {
   "cell_type": "code",
   "execution_count": 1,
   "metadata": {},
   "outputs": [],
   "source": [
    "import numpy as np\n",
    "import pandas as pd\n",
    "from groq import Groq\n",
    "import os\n",
    "import time"
   ]
  },
  {
   "cell_type": "code",
   "execution_count": 2,
   "metadata": {},
   "outputs": [],
   "source": [
    "df = pd.read_excel('../../data/raw/OMIEC_NEUROMORPHIC_07_08_24.xls')"
   ]
  },
  {
   "cell_type": "code",
   "execution_count": 3,
   "metadata": {},
   "outputs": [],
   "source": [
    "GROQ_API_KEY='GROQ_API_KEY'"
   ]
  },
  {
   "cell_type": "code",
   "execution_count": 13,
   "metadata": {},
   "outputs": [
    {
     "name": "stdout",
     "output_type": "stream",
     "text": [
      " 0 of 54, remaining estimated time: 0.0\n",
      "PEDOT; PSS; PBTTT; PQR; F8BT 1 of 54, remaining estimated time: 10.378825068473816\n",
      "PMIECs; PEO; PEO-I; PEOI 2 of 54, remaining estimated time: 12.441447575887045\n",
      "PTCDA; MEH-PPV 3 of 54, remaining estimated time: 13.265033483505249\n",
      "PEDOT;PSS 4 of 54, remaining estimated time: 14.432055950164797\n",
      "P3HT 5 of 54, remaining estimated time: 19.526465217272442\n",
      "Polymer; PIL 6 of 54, remaining estimated time: 19.087653023856028\n",
      "PTTBT; P3HT 7 of 54, remaining estimated time: 18.50664696097374\n",
      "gNR-Bu 8 of 54, remaining estimated time: 17.881032678816055\n",
      "PEDOT; PSS/PEDOT 9 of 54, remaining estimated time: 17.29483437538147\n",
      "Mel; PEDOT:PSS 10 of 54, remaining estimated time: 16.81930446624756\n",
      "PMDT; MEH-PPV; P3HT; DAD-PPV; PEDOT; PSS-PV; PCELT; PHT-TIPS 11 of 54, remaining estimated time: 16.7414586742719\n",
      "PEDOT; P3HT 12 of 54, remaining estimated time: 16.133092623490555\n",
      "NDI-2Tz; P-XO (X = 3-6) 13 of 54, remaining estimated time: 15.733231050627571\n",
      "PEDOT; PTB; poly(3,4-ethylenedioxythiophene) 14 of 54, remaining estimated time: 15.262624740600586\n",
      "P3MEEET 15 of 54, remaining estimated time: 14.787563771009445\n",
      "PEDOT:PSS; PSSNa 16 of 54, remaining estimated time: 14.25373374714571\n",
      "PEDOT; PSS 17 of 54, remaining estimated time: 13.902284370528328\n",
      "PEDOT:PSS 18 of 54, remaining estimated time: 13.52329128666928\n",
      "p(g2T-T); Homo-gDPP; DtFDA 19 of 54, remaining estimated time: 13.159224331378937\n",
      "PolyBDCNMA; Poly(3,4-ethylenedioxythiophene) (PEDOT) 20 of 54, remaining estimated time: 12.737308343251545\n",
      "PEDOT; PSS 21 of 54, remaining estimated time: 12.358574509620667\n",
      "Poly(ET); Oligo(EG)-PTh;rego-OLG-PT 22 of 54, remaining estimated time: 11.965816000233525\n",
      "PEDOT:PSS; 23 of 54, remaining estimated time: 11.56062490741412\n",
      "PEDOT; PSS 24 of 54, remaining estimated time: 11.140414237976074\n",
      "P3HT; PEDOT-PSS 25 of 54, remaining estimated time: 10.752261271843542\n",
      "PEDOT:PSS; P3HT; F8T2 26 of 54, remaining estimated time: 10.373229556613499\n",
      "PEDOT; P3HT 27 of 54, remaining estimated time: 9.950503834656306\n",
      "oEG; P3HT 28 of 54, remaining estimated time: 9.599948767958017\n",
      "PEDOT:PSS; PSSNa 29 of 54, remaining estimated time: 9.190664291381836\n",
      "TIIP; 30 of 54, remaining estimated time: 8.788550838347405\n",
      "None 31 of 54, remaining estimated time: 10.025397434830666\n",
      "PT; ND 32 of 54, remaining estimated time: 11.084618727366129\n",
      "PCBM; C60-TEG 33 of 54, remaining estimated time: 11.879149507073794\n",
      "PDMIEC; SPnIEC 34 of 54, remaining estimated time: 12.483293533325195\n",
      "PEDOT; PSS 35 of 54, remaining estimated time: 12.900209777885012\n",
      "None 36 of 54, remaining estimated time: 13.13987600481188\n",
      "P3HT; SEBS 37 of 54, remaining estimated time: 13.25289920129274\n",
      "None 38 of 54, remaining estimated time: 13.20274196526943\n",
      "None 39 of 54, remaining estimated time: 13.037273168563843\n",
      "P3HT; PEF; PANI 40 of 54, remaining estimated time: 12.762649152337051\n",
      "PEDOT:PSS 41 of 54, remaining estimated time: 12.379647073291597\n",
      "PEDOT-PSS; P3HT:ICBA; PSS-poly(2-methoxy-5-(2-ethylhexyloxy)-1,4-phenylene vinylene) 42 of 54, remaining estimated time: 11.920892848524936\n",
      "PEDOT:PSS; TEMPO 43 of 54, remaining estimated time: 11.33353066444397\n",
      "P3MEEMT 44 of 54, remaining estimated time: 10.664264890882704\n",
      "PBBT; BBL 45 of 54, remaining estimated time: 9.908601709034132\n",
      "PEDOT:PSS; 46 of 54, remaining estimated time: 9.13356289965041\n",
      "None 47 of 54, remaining estimated time: 8.203801020979881\n",
      "PEDOT;PSS 48 of 54, remaining estimated time: 7.209535258156912\n",
      "PEDOT; P3HT 49 of 54, remaining estimated time: 6.141165471076966\n",
      "None 50 of 54, remaining estimated time: 5.020982405718635\n",
      "None 51 of 54, remaining estimated time: 3.8548270418093757\n",
      "PSS; PDAC 52 of 54, remaining estimated time: 2.6204314861657485\n",
      "None 53 of 54, remaining estimated time: 1.336924641220658\n",
      "PTCDA;ppy-DTB;DMBM;DPT; N,N,N´,N´-Tetrakis-(3,5-bis(trifluoromethyl)phenyl)-benzene-1,2-diamine"
     ]
    }
   ],
   "source": [
    "# groq\n",
    "client = Groq(\n",
    "    api_key=GROQ_API_KEY,\n",
    ")\n",
    "\n",
    "# respostas\n",
    "responses_list = []\n",
    "\n",
    "# todos os abstracts\n",
    "total = len(df['Abstract'])\n",
    "total_time = 0\n",
    "\n",
    "\n",
    "for index, row in df.iterrows():\n",
    "    start_time = time.time()\n",
    "\n",
    "    # tempo\n",
    "    print(f\" {index} of {total}, remaining estimated time: {(total-index)*(total_time/(index+1))}\")\n",
    "\n",
    "    # chat request\n",
    "    completion = client.chat.completions.create(\n",
    "        model=\"llama3-8b-8192\",\n",
    "        messages=[\n",
    "            {\n",
    "                \"role\": \"system\",\n",
    "                \"content\": \"RolePlay as a bot seeking for polymers that are used in neuromorphic devices\"\n",
    "            },\n",
    "            {\n",
    "                \"role\": \"user\",\n",
    "                #\"content\": \"For the text I will input next, output only polymers used for neuromorphic devices. Do not output other types of polymers, and other kinds of materials, only the polymers. The output must be only the polymer material names separated by semicolons. Do not repeat the polymer name more than once. If no polymer was found, output 'None'\"\n",
    "                \"content\": \"For the text I will input next, provide only the names of OMIEC polymers, also known as Organic Mixed Ionic Electronic Conductors, that are present in the text and are used for neuromorphic devices. Do not output other types of polymers, and other kinds of materials, only the OMIECs. If any polymer that meets the condition is found in the text, the output should be only the polymer material names separated by semicolons. If no polymer that meets the condition is found in the text, the output should be 'None'. Do not repeat the polymer name more than once. The output should not include the type of material. I want to use the output for future data analysis, so if the polymer name is written in full, replace it with its abbreviation.\"\n",
    "            },\n",
    "            {\n",
    "                \"role\": \"assistant\",\n",
    "                \"content\": \"Hello, I will tell the polymers that are used in neuromorphic devices of any text you input next\"\n",
    "            },\n",
    "            {\n",
    "                \"role\": \"user\",\n",
    "                \"content\": f\"{row['Abstract']}\"  # Use f-string to format the abstract\n",
    "            }\n",
    "        ],\n",
    "        temperature=1,\n",
    "        max_tokens=1024,\n",
    "        top_p=1,\n",
    "        stream=True,\n",
    "        stop=None,\n",
    "    )\n",
    "\n",
    "    # coletar respostas\n",
    "    response = \"\"\n",
    "\n",
    "    # Stream the completion result and print the content\n",
    "    for chunk in completion:\n",
    "        response += chunk.choices[0].delta.content or \"\"\n",
    "        print(chunk.choices[0].delta.content or \"\", end=\"\")\n",
    "\n",
    "    # listas de respostas\n",
    "    responses_list.append({'index': index, 'response': response})\n",
    "\n",
    "    # tempo total\n",
    "    total_time += time.time() - start_time"
   ]
  },
  {
   "cell_type": "code",
   "execution_count": 5,
   "metadata": {},
   "outputs": [],
   "source": [
    "# DataFrame\n",
    "df_with_responses = pd.DataFrame(responses_list)\n",
    "\n",
    "# salvar para .csv\n",
    "df_with_responses.to_excel('../../dataframes/OMIEC_NEUROMORPHIC_RESPONSES_2.xlsx', index=False)"
   ]
  },
  {
   "cell_type": "code",
   "execution_count": 12,
   "metadata": {},
   "outputs": [
    {
     "name": "stdout",
     "output_type": "stream",
     "text": [
      "The field of organic mixed ionic-electronic conductors (OMIECs) has gained significant attention due to their ability to transport both electrons and ions, making them promising candidates for various applications. Initially focused on inorganic materials, the exploration of mixed conduction has expanded to organic materials, especially polymers, owing to their advantages such as solution processability, flexibility, and property tunability. OMIECs, particularly in the form of polymers, possess both electronic and ionic transport functionalities. This review provides an overview of OMIECs in various aspects covering mechanisms of charge transport including electronic transport, ionic transport, and ionic-electronic coupling, as well as conducting/semiconducting conjugated polymers and their applications in organic bioelectronics, including (multi)sensors, neuromorphic devices, and electrochromic devices. OMIECs show promise in organic bioelectronics due to their compatibility with biological systems and the ability to modulate electronic conduction and ionic transport, resembling the principles of biological systems. Organic electrochemical transistors (OECTs) based on OMIECs offer significant potential for bioelectronic applications, responding to external stimuli through modulation of ionic transport. An in-depth review of recent research achievements in organic bioelectronic applications using OMIECs, categorized based on physical and chemical stimuli as well as neuromorphic devices and circuit applications, is presented.\n"
     ]
    }
   ],
   "source": [
    "a = df['Abstract'][0]\n",
    "print(a)"
   ]
  },
  {
   "cell_type": "code",
   "execution_count": 11,
   "metadata": {},
   "outputs": [
    {
     "data": {
      "text/plain": [
       "'Neuromorphic devices are likely to be the next evolution of computing, allowing to implement machine learning within hardware components. In biological neural systems, learning and signal processing are achieved by communication between neurons through time-dependent ion flux in the synapses. Integrating such ion-mediated operating principles in neuromorphic devices can deliver an energy efficient and powerful technology. Here a device known as a light-emitting electrochemical cell is revisited and modified, exploiting its ability to modulate current through ion accumulation/depletion at the electrodes and turn it into an organic synaptic diode. This two-terminal device is based on an organic mixed ionic-electronic conducting polymer that serves as active layer for conduction of lithium ions as well as charge carriers. The ionic conduction properties are modified by cryptand molecules, able to reversibly capture ions. The device can be reliably switched between states for at least 100 cycles and displays state retention for multiple minutes. The applicability for neuromorphic applications is further demonstrated by exploring frequency-dependent plasticity and paired-pulse facilitation behavior in the millisecond range. The polymeric nature, combined with the simple two-terminal architecture of the presented neuromorphic device, opens up a range of possibilities regarding the fabrication of artificial neural networks.'"
      ]
     },
     "execution_count": 11,
     "metadata": {},
     "output_type": "execute_result"
    }
   ],
   "source": [
    "a"
   ]
  },
  {
   "cell_type": "markdown",
   "metadata": {},
   "source": [
    "#### Playground"
   ]
  },
  {
   "cell_type": "code",
   "execution_count": 6,
   "metadata": {},
   "outputs": [
    {
     "ename": "NameError",
     "evalue": "name 'full_df' is not defined",
     "output_type": "error",
     "traceback": [
      "\u001b[1;31m---------------------------------------------------------------------------\u001b[0m",
      "\u001b[1;31mNameError\u001b[0m                                 Traceback (most recent call last)",
      "Cell \u001b[1;32mIn[6], line 6\u001b[0m\n\u001b[0;32m      2\u001b[0m \u001b[38;5;28;01mimport\u001b[39;00m \u001b[38;5;21;01mtime\u001b[39;00m\n\u001b[0;32m      4\u001b[0m df_with_responses \u001b[38;5;241m=\u001b[39m pd\u001b[38;5;241m.\u001b[39mDataFrame()\n\u001b[1;32m----> 6\u001b[0m total \u001b[38;5;241m=\u001b[39m \u001b[38;5;28mlen\u001b[39m(\u001b[43mfull_df\u001b[49m[\u001b[38;5;124m'\u001b[39m\u001b[38;5;124mAbstract\u001b[39m\u001b[38;5;124m'\u001b[39m])\n\u001b[0;32m      7\u001b[0m total_time \u001b[38;5;241m=\u001b[39m \u001b[38;5;241m0\u001b[39m\n\u001b[0;32m      9\u001b[0m \u001b[38;5;28;01mfor\u001b[39;00m index, row \u001b[38;5;129;01min\u001b[39;00m full_df\u001b[38;5;241m.\u001b[39miterrows():\n",
      "\u001b[1;31mNameError\u001b[0m: name 'full_df' is not defined"
     ]
    }
   ],
   "source": [
    "import requests\n",
    "import time\n",
    "\n",
    "df_with_responses = pd.DataFrame()\n",
    "\n",
    "total = len(full_df['Abstract'])\n",
    "total_time = 0\n",
    "\n",
    "for index, row in full_df.iterrows():\n",
    "    start_time = time.time()\n",
    "    print(index, 'of', total, 'remaining estimated time', (total-index)*(total_time/(index+1)))\n",
    "    payload = { \n",
    "        'prompt': \"\"\"{\n",
    "        'systemPrompt': 'RolePlay as a bot seeking for catalysts', \n",
    "        'user': \"For the text I will input next, output only the catalyst materials used for the oxygen reduction reaction. Do not output precursors, electrolytes, and other kinds of materials, only the catalyst. The output must be only the catalyst material names separated by semicolons. Do not repeat the material name more than once. If no catalyst was found, output 'None'\",\n",
    "        'Assistant': 'Hello, I will tell the catalysts of any text you input next',\n",
    "        'user_text':\"\"\" + row['Abstract'] + \"}\",\n",
    "        \"temperature\":0.75,\n",
    "        \"topP\":0.9,\n",
    "        \"maxTokens\": 1000\n",
    "    }\n",
    "    #print(payload)\n",
    "    response = requests.post('https://fumes-api.onrender.com/llama3', json=payload, stream=True)\n",
    "    filtered_response = response.text.replace(' YOU CAN BUY ME COFFE! https://buymeacoffee.com/mygx', '')\n",
    "    print(filtered_response)\n",
    "    row['response'] = filtered_response\n",
    "    df_with_responses = df_with_responses.append(row)\n",
    "    time.sleep(2.5)\n",
    "    total_time = total_time + time.time() - start_time\n",
    "    print('Time for this loop:', time.time() - start_time, 'average loop time:', (total_time/(index+1)))\n",
    "    #for chunk in response.iter_content(chunk_size=1024):  \n",
    "    #    if chunk:\n",
    "    #        print(chunk.decode('utf-8'))"
   ]
  }
 ],
 "metadata": {
  "kernelspec": {
   "display_name": "gbeneti-LNLS",
   "language": "python",
   "name": "python3"
  },
  "language_info": {
   "codemirror_mode": {
    "name": "ipython",
    "version": 3
   },
   "file_extension": ".py",
   "mimetype": "text/x-python",
   "name": "python",
   "nbconvert_exporter": "python",
   "pygments_lexer": "ipython3",
   "version": "3.11.6"
  }
 },
 "nbformat": 4,
 "nbformat_minor": 2
}
